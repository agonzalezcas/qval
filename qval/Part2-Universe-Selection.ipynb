{
 "cells": [
  {
   "cell_type": "markdown",
   "metadata": {},
   "source": [
    "<img alt=\"QuantRocket logo\" src=\"https://www.quantrocket.com/assets/img/notebook-header-logo.png\">\n",
    "\n",
    "<a href=\"https://www.quantrocket.com/disclaimer/\">Disclaimer</a>"
   ]
  },
  {
   "cell_type": "markdown",
   "metadata": {},
   "source": [
    "# Universe Selection\n",
    "\n",
    "The Alpha Architect white paper calls for the trading strategy to run on the universe of NYSE stocks, excluding financials, REITs, and ADRs. Thus our first step is to create universes that define these different groups of securities.\n",
    "\n",
    "> Note the use of the `domain=\"sharadar\"` parameter in the functions below. This parameter is required because we want to define our universes in the Sharadar securities master database (`quantrocket.master.sharadar.sqlite`), not in the default IB securities master database (`quantrocket.master.main.sqlite`)."
   ]
  },
  {
   "cell_type": "markdown",
   "metadata": {},
   "source": [
    "## All NYSE securities\n",
    "\n",
    "First, download a CSV of all NYSE securities from the Sharadar master: "
   ]
  },
  {
   "cell_type": "code",
   "execution_count": 1,
   "metadata": {},
   "outputs": [],
   "source": [
    "from quantrocket.master import download_master_file\n",
    "download_master_file(\"sharadar_nyse_securities.csv\", exchanges=\"NYSE\", domain=\"sharadar\")"
   ]
  },
  {
   "cell_type": "markdown",
   "metadata": {},
   "source": [
    "We can use the file to create the universe of all NYSE securities:"
   ]
  },
  {
   "cell_type": "code",
   "execution_count": 2,
   "metadata": {},
   "outputs": [
    {
     "data": {
      "text/plain": [
       "{'code': 'nyse-stk',\n",
       " 'provided': 5067,\n",
       " 'inserted': 5067,\n",
       " 'total_after_insert': 5067}"
      ]
     },
     "execution_count": 2,
     "metadata": {},
     "output_type": "execute_result"
    }
   ],
   "source": [
    "from quantrocket.master import create_universe\n",
    "create_universe(\"nyse-stk\", \"sharadar_nyse_securities.csv\", domain=\"sharadar\")"
   ]
  },
  {
   "cell_type": "markdown",
   "metadata": {},
   "source": [
    "## Financials\n",
    "\n",
    "Next we create a universe of financials. We'll exclude this universe (along with REITs and ADRs) when it comes time to run our backtest. \n",
    "\n",
    "First load the securities into Pandas and list the sectors:"
   ]
  },
  {
   "cell_type": "code",
   "execution_count": 3,
   "metadata": {},
   "outputs": [
    {
     "data": {
      "text/plain": [
       "array(['Industrials', 'Consumer Cyclical', 'Utilities', 'Healthcare',\n",
       "       'Technology', 'Real Estate', 'Financial Services',\n",
       "       'Basic Materials', 'Energy', nan, 'Communication Services',\n",
       "       'Consumer Defensive'], dtype=object)"
      ]
     },
     "execution_count": 3,
     "metadata": {},
     "output_type": "execute_result"
    }
   ],
   "source": [
    "import pandas as pd\n",
    "nyse_securities = pd.read_csv(\"sharadar_nyse_securities.csv\")\n",
    "nyse_securities.Sector.unique()"
   ]
  },
  {
   "cell_type": "markdown",
   "metadata": {},
   "source": [
    "In the Sharadar data, the financial sector is called \"Financial Services\". We filter the DataFrame to stocks in this sector, write them to a file (we use an in-memory file so as not to clutter the hard drive), and upload the file to create the universe of financial stocks:"
   ]
  },
  {
   "cell_type": "code",
   "execution_count": 4,
   "metadata": {},
   "outputs": [
    {
     "data": {
      "text/plain": [
       "{'code': 'nyse-financials',\n",
       " 'provided': 708,\n",
       " 'inserted': 708,\n",
       " 'total_after_insert': 708}"
      ]
     },
     "execution_count": 4,
     "metadata": {},
     "output_type": "execute_result"
    }
   ],
   "source": [
    "import io\n",
    "f = io.StringIO()\n",
    "nyse_securities[nyse_securities.Sector == \"Financial Services\"].to_csv(f)\n",
    "create_universe(\"nyse-financials\", f, domain=\"sharadar\")"
   ]
  },
  {
   "cell_type": "markdown",
   "metadata": {},
   "source": [
    "## REITS\n",
    "\n",
    "Next we create a universe of REITs. From inspecting the master file we know that REITs are identified in the \"Industry\" column:"
   ]
  },
  {
   "cell_type": "code",
   "execution_count": 5,
   "metadata": {},
   "outputs": [
    {
     "data": {
      "text/plain": [
       "{'code': 'nyse-reits',\n",
       " 'provided': 487,\n",
       " 'inserted': 487,\n",
       " 'total_after_insert': 487}"
      ]
     },
     "execution_count": 5,
     "metadata": {},
     "output_type": "execute_result"
    }
   ],
   "source": [
    "f = io.StringIO()\n",
    "nyse_securities[nyse_securities.Industry.fillna(\"\").str.contains(\"REIT\")].to_csv(f)\n",
    "create_universe(\"nyse-reits\", f, domain=\"sharadar\")"
   ]
  },
  {
   "cell_type": "markdown",
   "metadata": {},
   "source": [
    "## ADRs\n",
    "\n",
    "To create a universe of ADRs, we can take advantage of the \"Category\" field in the Sharadar data, which contains this information. First have a peek:"
   ]
  },
  {
   "cell_type": "code",
   "execution_count": 6,
   "metadata": {},
   "outputs": [
    {
     "data": {
      "text/plain": [
       "array(['Domestic', 'Canadian', 'ADR', nan], dtype=object)"
      ]
     },
     "execution_count": 6,
     "metadata": {},
     "output_type": "execute_result"
    }
   ],
   "source": [
    "nyse_securities.Category.unique()"
   ]
  },
  {
   "cell_type": "code",
   "execution_count": 7,
   "metadata": {},
   "outputs": [
    {
     "data": {
      "text/html": [
       "<div>\n",
       "<style scoped>\n",
       "    .dataframe tbody tr th:only-of-type {\n",
       "        vertical-align: middle;\n",
       "    }\n",
       "\n",
       "    .dataframe tbody tr th {\n",
       "        vertical-align: top;\n",
       "    }\n",
       "\n",
       "    .dataframe thead th {\n",
       "        text-align: right;\n",
       "    }\n",
       "</style>\n",
       "<table border=\"1\" class=\"dataframe\">\n",
       "  <thead>\n",
       "    <tr style=\"text-align: right;\">\n",
       "      <th></th>\n",
       "      <th>Symbol</th>\n",
       "      <th>LongName</th>\n",
       "      <th>Category</th>\n",
       "    </tr>\n",
       "  </thead>\n",
       "  <tbody>\n",
       "    <tr>\n",
       "      <th>6</th>\n",
       "      <td>MSC</td>\n",
       "      <td>Studio City International Holdings Ltd</td>\n",
       "      <td>ADR</td>\n",
       "    </tr>\n",
       "    <tr>\n",
       "      <th>11</th>\n",
       "      <td>SB-PD</td>\n",
       "      <td>Safe Bulkers Inc</td>\n",
       "      <td>ADR</td>\n",
       "    </tr>\n",
       "    <tr>\n",
       "      <th>12</th>\n",
       "      <td>SB-PC</td>\n",
       "      <td>Safe Bulkers Inc</td>\n",
       "      <td>ADR</td>\n",
       "    </tr>\n",
       "    <tr>\n",
       "      <th>13</th>\n",
       "      <td>SAN-PB</td>\n",
       "      <td>Banco Santander Sa</td>\n",
       "      <td>ADR</td>\n",
       "    </tr>\n",
       "    <tr>\n",
       "      <th>26</th>\n",
       "      <td>RBS-PS</td>\n",
       "      <td>Royal Bank Of Scotland Group Plc</td>\n",
       "      <td>ADR</td>\n",
       "    </tr>\n",
       "  </tbody>\n",
       "</table>\n",
       "</div>"
      ],
      "text/plain": [
       "    Symbol                                LongName Category\n",
       "6      MSC  Studio City International Holdings Ltd      ADR\n",
       "11   SB-PD                        Safe Bulkers Inc      ADR\n",
       "12   SB-PC                        Safe Bulkers Inc      ADR\n",
       "13  SAN-PB                      Banco Santander Sa      ADR\n",
       "26  RBS-PS        Royal Bank Of Scotland Group Plc      ADR"
      ]
     },
     "execution_count": 7,
     "metadata": {},
     "output_type": "execute_result"
    }
   ],
   "source": [
    "nyse_securities[nyse_securities.Category == \"ADR\"][[\"Symbol\",\"LongName\",\"Category\"]].head()"
   ]
  },
  {
   "cell_type": "markdown",
   "metadata": {},
   "source": [
    "Then create the ADR universe:"
   ]
  },
  {
   "cell_type": "code",
   "execution_count": 8,
   "metadata": {},
   "outputs": [
    {
     "data": {
      "text/plain": [
       "{'code': 'nyse-adrs',\n",
       " 'provided': 578,\n",
       " 'inserted': 578,\n",
       " 'total_after_insert': 578}"
      ]
     },
     "execution_count": 8,
     "metadata": {},
     "output_type": "execute_result"
    }
   ],
   "source": [
    "f = io.StringIO()\n",
    "nyse_securities[nyse_securities.Category == \"ADR\"].to_csv(f)\n",
    "create_universe(\"nyse-adrs\", f, domain=\"sharadar\")"
   ]
  },
  {
   "cell_type": "markdown",
   "metadata": {},
   "source": [
    "***\n",
    "\n",
    "## *Next Up*\n",
    "\n",
    "Part 3: [Interactive Strategy Development](Part3-Interactive-Strategy-Development.ipynb)"
   ]
  }
 ],
 "metadata": {
  "kernelspec": {
   "display_name": "Python 3",
   "language": "python",
   "name": "python3"
  },
  "language_info": {
   "codemirror_mode": {
    "name": "ipython",
    "version": 3
   },
   "file_extension": ".py",
   "mimetype": "text/x-python",
   "name": "python",
   "nbconvert_exporter": "python",
   "pygments_lexer": "ipython3",
   "version": "3.6.6"
  }
 },
 "nbformat": 4,
 "nbformat_minor": 2
}
